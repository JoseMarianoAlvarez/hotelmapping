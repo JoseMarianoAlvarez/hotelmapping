{
 "cells": [
  {
   "cell_type": "code",
   "execution_count": null,
   "metadata": {},
   "outputs": [],
   "source": [
    "import pandas as pd\n",
    "import recordlinkage as rl\n",
    "from   recordlinkage.preprocessing import clean\n"
   ]
  },
  {
   "cell_type": "code",
   "execution_count": 1,
   "metadata": {},
   "outputs": [],
   "source": [
    "# --------------------------------------------------------------------\n",
    "#      cities - GeoNames\n",
    "# --------------------------------------------------------------------\n",
    "# geonameid         : integer id of record in geonames database\n",
    "# name              : name of geographical point (utf8) varchar(200)\n",
    "# asciiname         : name of geographical point in plain ascii characters, varchar(200)\n",
    "# alternatenames    : alternatenames, comma separated, ascii names automatically transliterated, convenience attribute from alternatename table, varchar(10000)\n",
    "# latitude          : latitude in decimal degrees (wgs84)\n",
    "# longitude         : longitude in decimal degrees (wgs84)\n",
    "# feature class     : see http://www.geonames.org/export/codes.html, char(1)\n",
    "# feature code      : see http://www.geonames.org/export/codes.html, varchar(10)\n",
    "# country code      : ISO-3166 2-letter country code, 2 characters\n",
    "# cc2               : alternate country codes, comma separated, ISO-3166 2-letter country code, 200 characters\n",
    "# admin1 code       : fipscode (subject to change to iso code), see exceptions below, see file admin1Codes.txt for display names of this code; varchar(20)\n",
    "# admin2 code       : code for the second administrative division, a county in the US, see file admin2Codes.txt; varchar(80) \n",
    "# admin3 code       : code for third level administrative division, varchar(20)\n",
    "# admin4 code       : code for fourth level administrative division, varchar(20)\n",
    "# population        : bigint (8 byte int) \n",
    "# elevation         : in meters, integer\n",
    "# dem               : digital elevation model, srtm3 or gtopo30, average elevation of 3''x3'' (ca 90mx90m) or 30''x30'' (ca 900mx900m) area in meters, integer. srtm processed by cgiar/ciat.\n",
    "# timezone          : the iana timezone id (see file timeZone.txt) varchar(40)\n",
    "# modification date : date of last modification in yyyy-MM-dd format\n",
    "\n"
   ]
  },
  {
   "cell_type": "code",
   "execution_count": null,
   "metadata": {},
   "outputs": [],
   "source": [
    "def df_import_geo_cities(citiesFile):\n",
    "    geocols = ['geonameid', 'name', 'asciiname', 'alternatenames', 'latitude', 'longitude', 'feature_class', 'feature_code', 'country_code', 'cc2', 'admin1_code', 'admin2_code', 'admin3_code', 'admin4_code', 'population', 'elevation', 'dem', 'timezone', 'modification date']   \n",
    "    cities = pd.read_csv(citiesFile,\n",
    "                        sep='\\t', \n",
    "                        header=None,\n",
    "                        #engine='python',\n",
    "                        low_memory=False,\n",
    "                        names = geocols,\n",
    "                        infer_datetime_format=True\n",
    "                        )\n",
    "\n",
    "    cities.drop(columns=['feature_class','admin1_code', 'admin2_code', 'admin3_code', 'admin4_code', 'population', 'elevation', 'dem', 'timezone', 'modification date'], inplace=True)\n",
    "    return cities\n"
   ]
  },
  {
   "cell_type": "code",
   "execution_count": null,
   "metadata": {},
   "outputs": [],
   "source": [
    "# ----------------------------------------------\n",
    "#   Country - GeoNames\n",
    "# ----------------------------------------------\n",
    "\n",
    "def df_import_geo_country(countryFile):\n",
    "    country = pd.read_csv(countryFile,\n",
    "                        sep='\\t', \n",
    "                        #engine='python',\n",
    "                        low_memory=False,\n",
    "                        infer_datetime_format=True)\n",
    "    return country\n",
    "\n",
    "       \n",
    "# country[country.Country == 'Argentina'].head(10)\n",
    "# countrygid.head(10)\n"
   ]
  },
  {
   "cell_type": "code",
   "execution_count": null,
   "metadata": {},
   "outputs": [],
   "source": [
    "# ----------------------------------------------\n",
    "# alternate names - GeoNames\n",
    "# ----------------------------------------------\n",
    "# alternateNameId   : the id of this alternate name, int\n",
    "# geonameid         : geonameId referring to id in table 'geoname', int\n",
    "# isolanguage       : iso 639 language code 2- or 3-characters; 4-characters 'post' for postal codes and 'iata','icao' and faac for airport codes, fr_1793 for French Revolution names,  abbr for abbreviation, link to a website (mostly to wikipedia), wkdt for the wikidataid, varchar(7)\n",
    "# alternate name    : alternate name or name variant, varchar(400)\n",
    "# isPreferredName   : '1', if this alternate name is an official/preferred name\n",
    "# isShortName       : '1', if this is a short name like 'California' for 'State of California'\n",
    "# isColloquial      : '1', if this alternate name is a colloquial or slang term. Example: 'Big Apple' for 'New York'.\n",
    "# isHistoric        : '1', if this alternate name is historic and was used in the past. Example 'Bombay' for 'Mumbai'.\n",
    "# from              : from period when the name was used\n",
    "# to                : to period when the name was used\n",
    "\n"
   ]
  },
  {
   "cell_type": "code",
   "execution_count": null,
   "metadata": {},
   "outputs": [],
   "source": [
    "def df_import_geo_alternate_names(alternateFile):     \n",
    "    alternatecols = ['alternateNameId','geonameid','isolanguage','alternate','isPreferredName','isShortName','isColloquial','isHistoric','from','to',]\n",
    "    alternaNames = pd.read_csv(alternateFile,\n",
    "                        sep='\\t', \n",
    "                        header=None,\n",
    "                        #engine='python',\n",
    "                        low_memory=False,\n",
    "                        names = alternatecols,\n",
    "                        infer_datetime_format=True\n",
    "                        )\n",
    "    return alternaNames\n",
    "\n",
    "# alternaNames.head(10)\n",
    "\n",
    "# El unico nombre que se repite es San Martín !!!!!!\n",
    "# CountryEs.CountryES.value_counts()\n",
    "# alternateES[alternateES.alternate == 'San Martín' ]\n",
    "\n",
    "# Ejemplo de problema que genera duplicados\n",
    "# CountryEs[CountryEs.CountryES == 'San Martín' ]\n"
   ]
  },
  {
   "cell_type": "code",
   "execution_count": null,
   "metadata": {},
   "outputs": [],
   "source": [
    "def genera_country():\n",
    "    # Carga Paises\n",
    "    country = df_import_geo_country('.\\\\DataSets\\\\GeoNames\\\\CountryInfo.csv') \n",
    "    countrygid = country.geonameid\n",
    "\n",
    "    # Carga  los nombres en otros idiomas\n",
    "    alternaNames = df_import_geo_alternate_names('.\\\\DataSets\\\\GeoNames\\\\alternateNamesV2.txt')\n",
    "\n",
    "    # Selecciona los de los idiomas mas usados\n",
    "    alternate_x = alternaNames.loc[(alternaNames.geonameid.isin(countrygid)) & (alternaNames.isolanguage.isin(['es','en','de','it','fr'])),['geonameid','alternate']] \n",
    "\n",
    "    # Arma la tabla de conversion\n",
    "    country_alt = pd.merge(country, alternate_x, left_on='geonameid', right_on='geonameid')[['Country','alternate','ISO', 'ISO3', 'fips', 'Phone']].rename(index=str,columns={\"Country\": \"country_corregido\", \"alternate\": \"country_alt\"})    \n",
    "\n",
    "    # Graba archivo\n",
    "    country_alt.to_csv('.\\\\DataSets\\\\GeoNames\\\\country_alt.csv')\n",
    "    del alternate_x\n",
    "    del alternaNames    \n",
    "    del country_alt\n",
    "    return \n",
    "\n"
   ]
  },
  {
   "cell_type": "code",
   "execution_count": null,
   "metadata": {},
   "outputs": [],
   "source": [
    "def df_import_country(countryFile):\n",
    "    # Carga desde archivo procesado previamente (mas rapido)\n",
    "    country_alt = pd.read_csv(countryFile,error_bad_lines=False,low_memory=False)[['country_corregido','country_alt']].drop_duplicates()\n",
    "\n",
    "    # Corrige el archivo de paises recibidos por las dudas\n",
    "    country_alt['country_corregido'] = rl.preprocessing.cleaning.clean(\n",
    "        country_alt.country_corregido,\n",
    "        remove_brackets=False,\n",
    "        strip_accents='unicode'\n",
    "    )\n",
    "    country_alt['country_alt'] = rl.preprocessing.cleaning.clean(\n",
    "        country_alt.country_alt,\n",
    "        remove_brackets=False,\n",
    "        strip_accents='unicode'\n",
    "    )\n",
    "\n",
    "    country_alt.drop_duplicates(inplace=True)\n",
    "    \n",
    "    # # Congo\n",
    "    country_alt.drop(280,inplace=True)\n",
    "\n",
    "    # # Kongo\n",
    "    country_alt.drop(287,inplace=True)\n",
    "\n",
    "    # Isla de San Martín\n",
    "    country_alt.drop(1576,inplace=True)\n",
    "\n",
    "    # Saint-Martin\n",
    "    country_alt.drop(1573,inplace=True)\n",
    "\n",
    "    # San Martín\n",
    "    country_alt.drop(1577,inplace=True)\n",
    "    \n",
    "    return country_alt\n"
   ]
  },
  {
   "cell_type": "code",
   "execution_count": null,
   "metadata": {},
   "outputs": [],
   "source": []
  }
 ],
 "metadata": {
  "kernelspec": {
   "display_name": "Python 3.8.6 ('timeseries')",
   "language": "python",
   "name": "python3"
  },
  "language_info": {
   "codemirror_mode": {
    "name": "ipython",
    "version": 3
   },
   "file_extension": ".py",
   "mimetype": "text/x-python",
   "name": "python",
   "nbconvert_exporter": "python",
   "pygments_lexer": "ipython3",
   "version": "3.8.6"
  },
  "orig_nbformat": 4,
  "vscode": {
   "interpreter": {
    "hash": "4589a0a38e08316dddfe24a3a427e7d98888b5a95aab4e49f18b602f67c670d4"
   }
  }
 },
 "nbformat": 4,
 "nbformat_minor": 2
}
